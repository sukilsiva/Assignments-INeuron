{
 "cells": [
  {
   "cell_type": "code",
   "execution_count": 1,
   "metadata": {},
   "outputs": [
    {
     "name": "stdout",
     "output_type": "stream",
     "text": [
      "hello ineuron\n"
     ]
    }
   ],
   "source": [
    "print(\"hello ineuron\")"
   ]
  },
  {
   "cell_type": "code",
   "execution_count": 4,
   "metadata": {},
   "outputs": [
    {
     "name": "stdout",
     "output_type": "stream",
     "text": [
      "[2002, 2009, 2016, 2023, 2037, 2044, 2051, 2058, 2072, 2079, 2086, 2093, 2107, 2114, 2121, 2128, 2142, 2149, 2156, 2163, 2177, 2184, 2191, 2198, 2212, 2219, 2226, 2233, 2247, 2254, 2261, 2268, 2282, 2289, 2296, 2303, 2317, 2324, 2331, 2338, 2352, 2359, 2366, 2373, 2387, 2394, 2401, 2408, 2422, 2429, 2436, 2443, 2457, 2464, 2471, 2478, 2492, 2499, 2506, 2513, 2527, 2534, 2541, 2548, 2562, 2569, 2576, 2583, 2597, 2604, 2611, 2618, 2632, 2639, 2646, 2653, 2667, 2674, 2681, 2688, 2702, 2709, 2716, 2723, 2737, 2744, 2751, 2758, 2772, 2779, 2786, 2793, 2807, 2814, 2821, 2828, 2842, 2849, 2856, 2863, 2877, 2884, 2891, 2898, 2912, 2919, 2926, 2933, 2947, 2954, 2961, 2968, 2982, 2989, 2996, 3003, 3017, 3024, 3031, 3038, 3052, 3059, 3066, 3073, 3087, 3094, 3101, 3108, 3122, 3129, 3136, 3143, 3157, 3164, 3171, 3178, 3192, 3199]\n"
     ]
    }
   ],
   "source": [
    "start = 2000\n",
    "end = 3200\n",
    "li = []\n",
    "for i in range(start, end):\n",
    "    if (i%7)==0 and (i%5)!=0:\n",
    "        li.append(i)\n",
    "print(li)"
   ]
  },
  {
   "cell_type": "code",
   "execution_count": 9,
   "metadata": {},
   "outputs": [
    {
     "name": "stdout",
     "output_type": "stream",
     "text": [
      "Enter the First Name:sukil\n",
      "Enter the Last Name:siva\n",
      "Full Name: sukilsiva\n",
      "Reversed Name :likus avis\n"
     ]
    }
   ],
   "source": [
    "first_name = input(\"Enter the First Name:\")\n",
    "last_name = input(\"Enter the Last Name:\")\n",
    "\n",
    "full_name = first_name + last_name\n",
    "print(\"Full Name:\",full_name)\n",
    "\n",
    "def reverse_string(first_name, last_name):\n",
    "    f_n = first_name[::-1]\n",
    "    l_n = last_name[::-1]\n",
    "    print(\"Reversed Name :{} {}\".format(f_n,l_n))\n",
    "    \n",
    "reverse_string(first_name, last_name)"
   ]
  },
  {
   "cell_type": "code",
   "execution_count": 10,
   "metadata": {},
   "outputs": [
    {
     "name": "stdout",
     "output_type": "stream",
     "text": [
      "Volume of the sphere: 904.3199999999998\n"
     ]
    }
   ],
   "source": [
    "diametre = 12\n",
    "\n",
    "r = diametre/2\n",
    "\n",
    "V = (4/3)*(3.14)*r*r*r\n",
    "\n",
    "print(\"Volume of the sphere:\", V)"
   ]
  },
  {
   "cell_type": "code",
   "execution_count": 2,
   "metadata": {},
   "outputs": [
    {
     "name": "stdout",
     "output_type": "stream",
     "text": [
      "Enter the number of rows5\n",
      "*\n",
      "**\n",
      "***\n",
      "****\n",
      "*****\n",
      "*****\n",
      "****\n",
      "***\n",
      "**\n",
      "*\n"
     ]
    }
   ],
   "source": [
    "n = int(input(\"Enter the number of rows\"))\n",
    "def pattern(n):\n",
    "    for i in range(0,n):\n",
    "        for j in range(0, i+1):\n",
    "            print(\"*\", end=\"\")\n",
    "        print()\n",
    "    for k in range(n,0,-1):\n",
    "        for l in range(k):\n",
    "            print(\"*\", end=\"\")\n",
    "        print()\n",
    "        \n",
    "pattern(n)"
   ]
  },
  {
   "cell_type": "code",
   "execution_count": 3,
   "metadata": {},
   "outputs": [
    {
     "name": "stdout",
     "output_type": "stream",
     "text": [
      "Enter the value :AcadGild\n"
     ]
    },
    {
     "data": {
      "text/plain": [
       "'dliGdacA'"
      ]
     },
     "execution_count": 3,
     "metadata": {},
     "output_type": "execute_result"
    }
   ],
   "source": [
    "string = input(\"Enter the value :\")\n",
    "\n",
    "def reverse(string):\n",
    "    reverse_str = string[::-1]\n",
    "    \n",
    "    return reverse_str\n",
    "reverse(string)"
   ]
  },
  {
   "cell_type": "code",
   "execution_count": 4,
   "metadata": {},
   "outputs": [
    {
     "name": "stdout",
     "output_type": "stream",
     "text": [
      "WE, THE PEOPLE OF INDIA,\n",
      "\thaving solemnly resolved to constitute India into a SOVEREIGN,!\n",
      "\t\tSOCIALIST, SECULAR, DEMOCRATIC REPUBLIC\n",
      "\t\tand to secure to all its citizens:\n"
     ]
    }
   ],
   "source": [
    "string = \"WE, THE PEOPLE OF INDIA,{}having solemnly resolved to constitute India into a SOVEREIGN,{}SOCIALIST, SECULAR, DEMOCRATIC REPUBLIC{}and to secure to all its citizens{}\"\n",
    "print(string.format('\\n\\t','!\\n\\t\\t','\\n\\t\\t',':'))"
   ]
  },
  {
   "cell_type": "code",
   "execution_count": null,
   "metadata": {},
   "outputs": [],
   "source": []
  }
 ],
 "metadata": {
  "kernelspec": {
   "display_name": "Python 3",
   "language": "python",
   "name": "python3"
  },
  "language_info": {
   "codemirror_mode": {
    "name": "ipython",
    "version": 3
   },
   "file_extension": ".py",
   "mimetype": "text/x-python",
   "name": "python",
   "nbconvert_exporter": "python",
   "pygments_lexer": "ipython3",
   "version": "3.7.6"
  }
 },
 "nbformat": 4,
 "nbformat_minor": 4
}
